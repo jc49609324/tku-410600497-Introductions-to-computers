{
  "nbformat": 4,
  "nbformat_minor": 0,
  "metadata": {
    "colab": {
      "name": "0530.ipynb",
      "provenance": [],
      "authorship_tag": "ABX9TyOwYCQgGDZO13NSRfMg6CoR",
      "include_colab_link": true
    },
    "kernelspec": {
      "name": "python3",
      "display_name": "Python 3"
    },
    "language_info": {
      "name": "python"
    }
  },
  "cells": [
    {
      "cell_type": "markdown",
      "metadata": {
        "id": "view-in-github",
        "colab_type": "text"
      },
      "source": [
        "<a href=\"https://colab.research.google.com/github/jc49609324/tku-410600497-Introductions-to-computers/blob/main/0530.ipynb\" target=\"_parent\"><img src=\"https://colab.research.google.com/assets/colab-badge.svg\" alt=\"Open In Colab\"/></a>"
      ]
    },
    {
      "cell_type": "code",
      "execution_count": null,
      "metadata": {
        "colab": {
          "base_uri": "https://localhost:8080/"
        },
        "id": "46NTDDO2Bsb7",
        "outputId": "b4a7b717-b78f-47cb-ca3b-602a8f5dd0a4"
      },
      "outputs": [
        {
          "output_type": "stream",
          "name": "stdout",
          "text": [
            "請輸入a的值4\n",
            "請輸入b的值5\n",
            "4和 5的最小公倍數 = 20\n"
          ]
        }
      ],
      "source": [
        "a=int(input(\"請輸入a的值\"))\n",
        "b=int(input(\"請輸入b的值\"))\n",
        "\n",
        "maxno=a*b\n",
        "for i in range(1, maxno+1):\n",
        "  if(i %a == 0 and i %b == 0):\n",
        "     break\n",
        "print(\"%d和 %d的最小公倍數 = %d\" %(a,b,i)) "
      ]
    },
    {
      "cell_type": "code",
      "source": [
        "n = int(input(\"請輸入正整數:\"))\n",
        "for i in range(1,n+1):\n",
        "   if i %5 == 0:\n",
        "      continue\n",
        "   print(i, end=\"\")"
      ],
      "metadata": {
        "colab": {
          "base_uri": "https://localhost:8080/"
        },
        "id": "IIgdrRpgGWK_",
        "outputId": "1c951cd2-b655-45c7-c33d-2cae292219ef"
      },
      "execution_count": null,
      "outputs": [
        {
          "output_type": "stream",
          "name": "stdout",
          "text": [
            "請輸入正整數:21\n",
            "12346789111213141617181921"
          ]
        }
      ]
    },
    {
      "cell_type": "code",
      "source": [
        "total = n = 0\n",
        "while n<=10:\n",
        "  total+=n\n",
        "  n+=1\n",
        "print(total)"
      ],
      "metadata": {
        "colab": {
          "base_uri": "https://localhost:8080/"
        },
        "id": "WNCDFBDSHSjZ",
        "outputId": "9bac3972-3df9-4a08-bb23-bcb4b294e77c"
      },
      "execution_count": null,
      "outputs": [
        {
          "output_type": "stream",
          "name": "stdout",
          "text": [
            "55\n"
          ]
        }
      ]
    },
    {
      "cell_type": "code",
      "source": [
        "total=i=1\n",
        "n=int(input(\"請輸入正整數n的值:\"))\n",
        "while i<=n:\n",
        "  total *= i\n",
        "  i+=1\n",
        "print(\"%d!=%d\" % (n,total))"
      ],
      "metadata": {
        "id": "IaE5mg-6JI3l",
        "colab": {
          "base_uri": "https://localhost:8080/"
        },
        "outputId": "60734dcc-0229-4c00-8ea2-fd3afd0a14c2"
      },
      "execution_count": 1,
      "outputs": [
        {
          "output_type": "stream",
          "name": "stdout",
          "text": [
            "請輸入正整數n的值:5\n",
            "5!=120\n"
          ]
        }
      ]
    }
  ]
}